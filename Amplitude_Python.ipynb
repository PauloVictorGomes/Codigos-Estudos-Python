{
  "nbformat": 4,
  "nbformat_minor": 0,
  "metadata": {
    "colab": {
      "name": "Amplitude - Python",
      "provenance": [],
      "collapsed_sections": [],
      "include_colab_link": true
    },
    "kernelspec": {
      "name": "python3",
      "display_name": "Python 3"
    },
    "language_info": {
      "name": "python"
    }
  },
  "cells": [
    {
      "cell_type": "markdown",
      "metadata": {
        "id": "view-in-github",
        "colab_type": "text"
      },
      "source": [
        "<a href=\"https://colab.research.google.com/github/PauloVictorGomes/Codigos-Estudos-Python/blob/master/Amplitude_Python.ipynb\" target=\"_parent\"><img src=\"https://colab.research.google.com/assets/colab-badge.svg\" alt=\"Open In Colab\"/></a>"
      ]
    },
    {
      "cell_type": "markdown",
      "metadata": {
        "id": "PFXujmTZSlct"
      },
      "source": [
        "# **Inteligência Artificial**\n",
        "\n",
        "## **Atividade Prática Supervisionada 1**\n",
        "\n",
        "\n",
        "\n",
        "\n",
        "### **Tema: Amplitude**\n",
        "\n",
        "**Aluno:** \n",
        "\n",
        "Paulo Victor Gomes da Silva 18104011"
      ]
    },
    {
      "cell_type": "markdown",
      "metadata": {
        "id": "V-7MUce5V9bS"
      },
      "source": [
        "\n",
        "\n",
        "Função escolhida é a amplitude, a amplitude é uma medida de disperção, onde em um conjunto de dados a amplitude é definida como a diferença entre o valor máximo e o mínimo. Com isso temos a fórmula:\n",
        "\n",
        " **A(x) = max(x) − min (x)** \n",
        "\n",
        " onde,\n",
        "\n",
        "*   A: Amplitude\n",
        "*   max: Valor máximo\n",
        "*   min: Valor mínimo"
      ]
    },
    {
      "cell_type": "code",
      "metadata": {
        "id": "H2azkzNJfMQS"
      },
      "source": [
        "#Bibliotecas matemáticas e estatísticas\n",
        "import numpy as np\n",
        "\n",
        "#Bibliotecas de visualização\n",
        "from matplotlib import pyplot as plt\n",
        "import seaborn as sns"
      ],
      "execution_count": null,
      "outputs": []
    },
    {
      "cell_type": "code",
      "metadata": {
        "id": "y1rwtncpexaX"
      },
      "source": [
        "#Produção diária de dois empregados\n",
        "#    meses     1   2   3   4   5   6  \n",
        "empregadoA = [70, 71, 69, 70, 69, 71]\n",
        "empregadoB = [56, 77, 70, 64, 81, 66]"
      ],
      "execution_count": null,
      "outputs": []
    },
    {
      "cell_type": "code",
      "metadata": {
        "colab": {
          "base_uri": "https://localhost:8080/"
        },
        "id": "SRsQL6KEzR2o",
        "outputId": "ad2c7a97-de5a-4234-8fa9-480fef771586"
      },
      "source": [
        "#Média da produção\n",
        "print('Média de vendas:',\n",
        "      '\\nEmpregado A:', np.mean(empregadoA),\n",
        "      '\\nEmpregado B:', np.mean(empregadoB)\n",
        "      )\n",
        "\n",
        "print('\\nTotal de vendas:',\n",
        "      '\\nEmpregado A:', sum(empregadoA),\n",
        "      '\\nEmpregado B:', sum(empregadoB)\n",
        "      )"
      ],
      "execution_count": null,
      "outputs": [
        {
          "output_type": "stream",
          "name": "stdout",
          "text": [
            "Média de vendas: \n",
            "Empregado A: 70.0 \n",
            "Empregado B: 69.0\n",
            "\n",
            "Total de vendas: \n",
            "Empregado A: 420 \n",
            "Empregado B: 414\n"
          ]
        }
      ]
    },
    {
      "cell_type": "code",
      "metadata": {
        "colab": {
          "base_uri": "https://localhost:8080/"
        },
        "id": "DTW5-s6NfWXC",
        "outputId": "68315dd8-77af-45b8-c933-606a6b4cc670"
      },
      "source": [
        "\"\"\"\n",
        "Amplitude\n",
        "at = max(dados) - min(dados)\n",
        "\"\"\"\n",
        "at_empregadoA = max(empregadoA) - min(empregadoA)\n",
        "at_empregadoB = max(empregadoB) - min(empregadoB)\n",
        "\n",
        "print(f'Amplitude da produção dos empregados:\\nA: {at_empregadoA}\\nB: {at_empregadoB}')"
      ],
      "execution_count": null,
      "outputs": [
        {
          "output_type": "stream",
          "name": "stdout",
          "text": [
            "Amplitude da produção dos empregados:\n",
            "A: 2\n",
            "B: 25\n"
          ]
        }
      ]
    },
    {
      "cell_type": "markdown",
      "metadata": {
        "id": "xM3m7L_oy1sF"
      },
      "source": [
        "Analisando a amplitude dos empregados "
      ]
    },
    {
      "cell_type": "code",
      "metadata": {
        "colab": {
          "base_uri": "https://localhost:8080/",
          "height": 281
        },
        "id": "yZh9MLzggoXr",
        "outputId": "cb96ef8c-1126-4415-d60a-a2dc1ecedbd0"
      },
      "source": [
        "plt.plot( [1,2,3,4,5,6],empregadoA,'m')\n",
        "plt.axis([1, 5, 50, 100])    # [xmin, xmax, ymin, ymax]\n",
        "plt.xticks([1, 2, 3, 4, 5, 6])\n",
        "plt.title(\"Empregado A\")\n",
        "plt.show()"
      ],
      "execution_count": null,
      "outputs": [
        {
          "output_type": "display_data",
          "data": {
            "image/png": "[encoded data removed]",
            "text/plain": [
              "<Figure size 432x288 with 1 Axes>"
            ]
          },
          "metadata": {
            "needs_background": "light"
          }
        }
      ]
    },
    {
      "cell_type": "code",
      "metadata": {
        "colab": {
          "base_uri": "https://localhost:8080/",
          "height": 281
        },
        "id": "oDOSb-rci-p0",
        "outputId": "3260c485-0b59-4cfd-9bc1-48a48a5cde7c"
      },
      "source": [
        "plt.plot( [1,2,3,4,5,6],empregadoB,'b')\n",
        "plt.axis([1, 5, 50, 100])    # [xmin, xmax, ymin, ymax]\n",
        "plt.xticks([1,2,3,4,5,6])\n",
        "plt.title(\"Empregado B\")\n",
        "plt.show()"
      ],
      "execution_count": null,
      "outputs": [
        {
          "output_type": "display_data",
          "data": {
            "image/png": "[encoded data removed]",
            "text/plain": [
              "<Figure size 432x288 with 1 Axes>"
            ]
          },
          "metadata": {
            "needs_background": "light"
          }
        }
      ]
    },
    {
      "cell_type": "code",
      "metadata": {
        "colab": {
          "base_uri": "https://localhost:8080/",
          "height": 295
        },
        "id": "7qGmCnUDfnMU",
        "outputId": "d7f594d6-e8a3-4044-a789-1787e5288140"
      },
      "source": [
        "plt.plot(empregadoA, 'm:')\n",
        "plt.plot(empregadoB, 'b:')\n",
        "plt.ylabel('Vendas')\n",
        "plt.xlabel('Tempo')\n",
        "plt.title(\"A x B\")\n",
        "plt.xticks([1,2,3,4,5,6])\n",
        "plt.legend(['Empregado A', 'Empregado B'],    \n",
        "           loc='best')\n",
        "\n",
        "sns.despine()"
      ],
      "execution_count": null,
      "outputs": [
        {
          "output_type": "display_data",
          "data": {
            "image/png": "[encoded data removed]",
            "text/plain": [
              "<Figure size 432x288 with 1 Axes>"
            ]
          },
          "metadata": {
            "needs_background": "light"
          }
        }
      ]
    },
    {
      "cell_type": "markdown",
      "metadata": {
        "id": "wY-e1wId2qV1"
      },
      "source": [
        "# **Programa**"
      ]
    },
    {
      "cell_type": "code",
      "metadata": {
        "id": "sFOFnoGf4h1p"
      },
      "source": [
        "list_a = list()\n",
        "list_b = list()"
      ],
      "execution_count": null,
      "outputs": []
    },
    {
      "cell_type": "code",
      "metadata": {
        "colab": {
          "base_uri": "https://localhost:8080/"
        },
        "id": "1mNWhFOV2pmH",
        "outputId": "7298b3b4-433f-4309-ae59-93b1b1c2a13a"
      },
      "source": [
        "print('Lista A')\n",
        "for c in range(0, 6):\n",
        "    list_a.append(int(input(f'\\nDigite um número na posição {c}: ')))#Acrescentando os números sempre ao final da lista\n",
        "   \n",
        "print(f'\\nNúmeros digitados na Lista A: {list_a}')   #exibir números digitados\n"
      ],
      "execution_count": null,
      "outputs": [
        {
          "output_type": "stream",
          "name": "stdout",
          "text": [
            "Lista A\n",
            "\n",
            "Digite um número na posição 0: 70\n",
            "\n",
            "Digite um número na posição 1: 71\n",
            "\n",
            "Digite um número na posição 2: 69\n",
            "\n",
            "Digite um número na posição 3: 70\n",
            "\n",
            "Digite um número na posição 4: 69\n",
            "\n",
            "Digite um número na posição 5: 71\n",
            "\n",
            "Números digitados na Lista A: [70, 71, 69, 70, 69, 71]\n"
          ]
        }
      ]
    },
    {
      "cell_type": "code",
      "metadata": {
        "colab": {
          "base_uri": "https://localhost:8080/"
        },
        "id": "bVZONmNC4fuJ",
        "outputId": "5335b90a-3cf9-4ed0-d639-56910554fabf"
      },
      "source": [
        "print('Lista B')\n",
        "for c in range(0, 6):\n",
        "    list_b.append(int(input(f'\\nDigite um número na posição {c}: ')))#Acrescentando os números sempre ao final da lista\n",
        "   \n",
        "print(f'\\nNúmeros digitados na Lista A: {list_b}')   #exibir números digitados\n"
      ],
      "execution_count": null,
      "outputs": [
        {
          "output_type": "stream",
          "name": "stdout",
          "text": [
            "Lista B\n",
            "\n",
            "Digite um número na posição 0: 56\n",
            "\n",
            "Digite um número na posição 1: 77\n",
            "\n",
            "Digite um número na posição 2: 70\n",
            "\n",
            "Digite um número na posição 3: 64\n",
            "\n",
            "Digite um número na posição 4: 81\n",
            "\n",
            "Digite um número na posição 5: 66\n",
            "\n",
            "Números digitados na Lista A: [56, 77, 70, 64, 81, 66]\n"
          ]
        }
      ]
    },
    {
      "cell_type": "code",
      "metadata": {
        "colab": {
          "base_uri": "https://localhost:8080/"
        },
        "id": "sDhuAYSt51UC",
        "outputId": "597e4cf8-d9db-4f64-f368-49f0118563a7"
      },
      "source": [
        "a_list_a = max(list_a) - min(list_a)\n",
        "a_list_b = max(list_b) - min(list_b)\n",
        "\n",
        "print(f'Amplitude:\\nA: {a_list_a}\\nB: {a_list_b}')"
      ],
      "execution_count": null,
      "outputs": [
        {
          "output_type": "stream",
          "name": "stdout",
          "text": [
            "Amplitude:\n",
            "A: 2\n",
            "B: 25\n"
          ]
        }
      ]
    },
    {
      "cell_type": "code",
      "metadata": {
        "colab": {
          "base_uri": "https://localhost:8080/",
          "height": 295
        },
        "id": "hxz_p8LS6QVW",
        "outputId": "cd3dd860-0a93-408d-fd69-ab4a3f2bb53b"
      },
      "source": [
        "plt.plot(list_a, 'm:')\n",
        "plt.plot(list_b, 'b:')\n",
        "plt.ylabel('Vendas')\n",
        "plt.xlabel('Tempo')\n",
        "plt.title(\"A x B\")\n",
        "plt.xticks([1,2,3,4,5,6])\n",
        "plt.legend(['Empregado A', 'Empregado B'],    \n",
        "           loc='best')\n",
        "\n",
        "sns.despine()"
      ],
      "execution_count": null,
      "outputs": [
        {
          "output_type": "display_data",
          "data": {
            "image/png": "[encoded data removed]",
            "text/plain": [
              "<Figure size 432x288 with 1 Axes>"
            ]
          },
          "metadata": {
            "needs_background": "light"
          }
        }
      ]
    }
  ]
}